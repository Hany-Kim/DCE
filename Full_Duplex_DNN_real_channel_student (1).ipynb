{
 "cells": [
  {
   "cell_type": "markdown",
   "metadata": {
    "id": "bm7kOvUfCZNk"
   },
   "source": [
    "Full duplex radio를 위한 연습\n",
    "\n"
   ]
  },
  {
   "cell_type": "code",
   "execution_count": null,
   "metadata": {
    "id": "qpmY5loPCZNo"
   },
   "outputs": [
    {
     "ename": "",
     "evalue": "",
     "output_type": "error",
     "traceback": [
      "\u001b[1;31mRunning cells with 'Python 3.7.11 64-bit ('DCE_3_7': conda)' requires ipykernel package.\n",
      "Run the following command to install 'ipykernel' into the Python environment. \n",
      "Command: 'conda install -n DCE_3_7 ipykernel --update-deps --force-reinstall'"
     ]
    }
   ],
   "source": [
    "import numpy as np\n",
    "import tensorflow as tf"
   ]
  },
  {
   "cell_type": "markdown",
   "metadata": {
    "id": "8zeiP351CZNp"
   },
   "source": [
    "$s[n]$ : transmitted signal at time $n$, (real number)  \n",
    "시간에 따른 송신신호\n",
    "\n",
    "$h_p[n]$ : the channel coefficient of the $p$-th order  \n",
    "p차 채널 계수\n",
    "\n",
    "$P$ : the largest order\n",
    "\n",
    "\n",
    "\\begin{align}\n",
    "y[n]= \\sum_\\limits{p=1,p=odd}^{P}\\sum\\limits_{l=0}^{L} h_{p}[l]s[n-l]^{p}.      ~~~~~~~~~~ (1)\n",
    "\\end{align}"
   ]
  },
  {
   "cell_type": "code",
   "execution_count": null,
   "metadata": {
    "id": "b9yNO_pmCZNq"
   },
   "outputs": [],
   "source": [
    "length_data = 100000  # length of s[n] | 송신신호 크기\n",
    "L = 3                 # length of delay profile [h[0], h[1], ..., h[L-1]] | 딜레이\n",
    "var_S = 5e-1          # variance of transmitted signal => 0.5 | 송신신호 값\n",
    "var_N = 1e-5          # variance of noise => 0.00001 | 노이즈 값\n",
    "\n",
    "P_max = 5             # the largest order\n",
    "P_min = 1             # the smallest order \n",
    "\n",
    "# traning set \n",
    "s = np.sqrt(var_S)*np.random.randn(length_data)     # the transmitted signal => matrix(100000,1) 평균:0 표편:np.sqrt(0.5)\n",
    "y = np.zeros(length_data + L -1,dtype='float32')    # the received signal => matrix(100002,1)\n",
    "# y = (0., 0., 0., 0., ... 0.) length = 100002\n",
    "\n",
    "#########################################################\n",
    "##  Training Data Set\n",
    "########################################################\n",
    "\n",
    "## Received symbols according to (1) | (1)에 따른 기호 수신\n",
    "h = np.random.randn(P_max+1,L)  # matrix(6,3) 평균:0, 표편:1\n",
    "for p in [a for a in range(P_min,P_max+1) if a%2==1]:\n",
    "    y = y + np.convolve(h[p],np.power(s,p)) #np.power(s,p) = s^p\n",
    "    #np.convolve([1, 2, 3], [0, 1, 0.5]) => (3,2,1)*(0,1,0.5) = (0., 1., 2.5., 4., 1.5)\n",
    "\n",
    "### additive noise ### 노이즈 추가\n",
    "y = y + np.sqrt(var_N)*np.random.randn(length_data + L-1) # 평균:y ,표편:np.sqrt(0.5) , 난수: 100002개"
   ]
  },
  {
   "cell_type": "code",
   "execution_count": null,
   "metadata": {
    "colab": {
     "base_uri": "https://localhost:8080/",
     "height": 295
    },
    "id": "dsC8ZcndXPuf",
    "outputId": "001b4a5c-a785-486f-d54d-2ea7c14d1976"
   },
   "outputs": [],
   "source": [
    "# s의 시각화\n",
    "import matplotlib.pyplot as plt\n",
    "\n",
    "plt.style.use('default')\n",
    "plt.rcParams['figure.figsize'] = (6, 3)\n",
    "plt.rcParams['font.size'] = 12\n",
    "\n",
    "plt.hist(s, bins=100, density=True, alpha=0.5, histtype='step', label='(mean, stddev)=(0, np.sqrt(0.5))')\n",
    "\n",
    "plt.xlim(-5, 5)\n",
    "plt.legend()\n",
    "plt.show()"
   ]
  },
  {
   "cell_type": "code",
   "execution_count": null,
   "metadata": {
    "colab": {
     "base_uri": "https://localhost:8080/",
     "height": 295
    },
    "id": "5KnXA0RIh03a",
    "outputId": "e81a172b-f440-47b5-b59c-12fcc3b039f2"
   },
   "outputs": [],
   "source": [
    "# y의 시각화\n",
    "import matplotlib.pyplot as plt\n",
    "\n",
    "plt.style.use('default')\n",
    "plt.rcParams['figure.figsize'] = (6, 3)\n",
    "plt.rcParams['font.size'] = 12\n",
    "\n",
    "plt.hist(y, bins=100, density=True, alpha=0.5, histtype='step', label='(mean, stddev)=(0, np.sqrt(0.5))')\n",
    "\n",
    "plt.xlim(-25, 25)\n",
    "plt.legend()\n",
    "plt.show()"
   ]
  },
  {
   "cell_type": "code",
   "execution_count": null,
   "metadata": {
    "colab": {
     "base_uri": "https://localhost:8080/"
    },
    "id": "eIrV9RT5aERy",
    "outputId": "1ebc10a7-46b6-4fe5-d709-b0d8cbca0078"
   },
   "outputs": [],
   "source": [
    "print(h)"
   ]
  },
  {
   "cell_type": "markdown",
   "metadata": {
    "id": "_XOHmrTNCZNr"
   },
   "source": [
    "Our objective is to estimate $\\{h_p[0], h_p[1], h_p[2]\\}$ for $p = 1, 3, 5$ assuming we do not know them.   \n",
    "We will apply the linear regression method first to estimate $\\{h_p[0], h_p[1], h_p[2]\\}$. \n",
    "\n",
    "\n",
    "$y[n]$ is affected by $\\{s[n], s[n-1], s[n-2], s^3[n], s^3[n-1], s^3[n-2], s^5[n], s^5[n-1], s^5[n-2]\\}$.  \n",
    "We can generate training set such as\n",
    "\n",
    "$s[2], s[1], s[0], s^3[2], s^3[1], s^3[0], s^5[2], s^5[1], s^5[0], y[2]$  \n",
    "$s[3], s[2], s[1], s^3[3], s^3[2], s^3[1], s^5[3], s^5[2], s^5[1], y[3]$  \n",
    "$s[4], s[3], s[2], s^3[4], s^3[3], s^3[2], s^5[4], s^5[3], s^5[2], y[4]$  \n",
    "$\\vdots$  $\\vdots$  \n",
    "where the last element of each row is a target data and the rest of the elements of each row is feature data. \n",
    "\n",
    "\n"
   ]
  },
  {
   "cell_type": "code",
   "execution_count": null,
   "metadata": {
    "id": "0Yq5Sm8kCZNr"
   },
   "outputs": [],
   "source": [
    "## Training data generation \n",
    "x_data = np.zeros([length_data - L+ 1, L],dtype = 'float32')   ## feature data\n",
    "# 1[0., 0., 0., ..., 0., 0.]\n",
    "# 2[0., 0., 0., ..., 0., 0.]\n",
    "# .[          ...          ]\n",
    "# L[0., 0., 0., ..., 0., 0.]\n",
    "y_data = np.zeros([length_data - L + 1,1],dtype = 'float32')   ## target data\n",
    "# 1[0., 0., 0., ..., 0., 0.]\n",
    "\n",
    "for i in range(length_data - L + 1):\n",
    "    y_data[i] = y[i + L -1] # y_data[0] = y[2], y_data[1] = y[3], ...\n",
    "    x_data[i] = s[i : i + L] # 유사 sliding window filter | x_data[0] = s[0:3], x_data[1] = s[1:4], ...\n",
    "\n",
    "x_data = np.concatenate((x_data, np.power(x_data,3), np.power(x_data,5)),axis=1) \n",
    "# concatenate axis = 0면 아래, axis = 1면 오른쪽 붙이기\n",
    "# x_data, (x_data)^3, (x_data)^5\n",
    "train_data = x_data\n"
   ]
  },
  {
   "cell_type": "code",
   "execution_count": null,
   "metadata": {
    "colab": {
     "base_uri": "https://localhost:8080/"
    },
    "id": "p8p9RnXJCZNs",
    "outputId": "b5b82879-34b6-424f-e665-8b33ce425694"
   },
   "outputs": [],
   "source": [
    "s.shape"
   ]
  },
  {
   "cell_type": "markdown",
   "metadata": {
    "id": "HNQaCi1KCZNt"
   },
   "source": [
    "We also generate test data set. "
   ]
  },
  {
   "cell_type": "code",
   "execution_count": null,
   "metadata": {
    "id": "yTlvP2LSCZNu"
   },
   "outputs": [],
   "source": [
    "###################################################    \n",
    "## Test Data Set\n",
    "####################################################\n",
    "len_test_data = 100000  # length of s[n] for test data set \n",
    "\n",
    "y = np.zeros(len_test_data + L -1,dtype='float32')\n",
    "s = np.sqrt(var_S)*np.random.randn(len_test_data) \n",
    "\n",
    "h = np.random.randn(P_max+1,L)\n",
    "for p in [a for a in range(P_min,P_max+1) if a%2==1]:\n",
    "    y = y + np.convolve(h[p],np.power(s,p))\n",
    "y = y + np.sqrt(var_N)*np.random.randn(length_data + L-1)\n",
    "\n",
    "## Test data generation\n",
    "x_data_test = np.zeros([length_data-L+1,L],dtype = 'float32')\n",
    "y_data_test = np.zeros([length_data-L+1,1],dtype = 'float32')  ## target data\n",
    "\n",
    "for i in range(length_data- L + 1):\n",
    "    y_data_test[i] = y[i + L -1]\n",
    "    x_data_test[i] = s[i : i + L]   \n",
    "    \n",
    "x_data_test = np.concatenate((x_data_test, np.power(x_data_test,3), np.power(x_data_test,5)),axis=1)\n",
    "test_data = x_data_test"
   ]
  },
  {
   "cell_type": "code",
   "execution_count": null,
   "metadata": {
    "colab": {
     "base_uri": "https://localhost:8080/"
    },
    "id": "FzoOLBW-CZNu",
    "outputId": "cbe6ddde-fee1-4d55-d2c9-566c88964b8b"
   },
   "outputs": [],
   "source": [
    "print(x_data.shape)\n",
    "print(x_data_test.shape)"
   ]
  },
  {
   "cell_type": "markdown",
   "metadata": {
    "id": "g9liAJHyCZNv"
   },
   "source": [
    "Now, with the generated train and test data, estimate $\\{h_p[0], h_p[1], h_p[2]\\}$ for $p = 1, 3, 5$ using linear regression method."
   ]
  },
  {
   "cell_type": "code",
   "execution_count": null,
   "metadata": {
    "id": "C8qZVAg2pm4j"
   },
   "outputs": [],
   "source": [
    "import pandas\n",
    "import seaborn\n",
    "seaborn.set()"
   ]
  },
  {
   "cell_type": "code",
   "execution_count": null,
   "metadata": {
    "colab": {
     "base_uri": "https://localhost:8080/"
    },
    "id": "0BJYkXSXJp50",
    "outputId": "04ebeffd-5240-4bb4-c185-a4595bd79b88"
   },
   "outputs": [],
   "source": [
    "print(train_data)\n",
    "print(len(train_data))\n",
    "print(len(train_data[0])) # 열길이\n",
    "print(len(train_data[0:])) # 행길이\n",
    "print(train_data.shape)\n",
    "type(train_data)"
   ]
  },
  {
   "cell_type": "code",
   "execution_count": null,
   "metadata": {
    "id": "zqkXISCtExBu"
   },
   "outputs": [],
   "source": [
    "def linear_regression(params, x_data):\n",
    "    '''\n",
    "    The linear regression model in matrix form.\n",
    "    Arguments:\n",
    "      params: 1D array of weights for the linear model\n",
    "      X     : 2D array of input values\n",
    "    Returns:\n",
    "      1D array of predicted values\n",
    "    '''\n",
    "    return np.dot(x_data, params)\n",
    "\n",
    "def cost_function(params, model, x_data, y_data):\n",
    "    '''\n",
    "    The mean squared error loss function.\n",
    "    Arguments:\n",
    "      params: 1D array of weights for the linear model\n",
    "      model : function for the linear regression model\n",
    "      X     : 2D array of input values\n",
    "      y     : 1D array of predicted values\n",
    "    Returns:\n",
    "      float, mean squared error\n",
    "    '''\n",
    "    y_data_pred = model(params, x_data)\n",
    "    return np.mean( np.sum((y_data-y_data_pred)**2) )"
   ]
  },
  {
   "cell_type": "code",
   "execution_count": null,
   "metadata": {
    "id": "RcQOSVRDGX9W"
   },
   "outputs": [],
   "source": [
    "from autograd import numpy\n",
    "from autograd import grad"
   ]
  },
  {
   "cell_type": "code",
   "execution_count": null,
   "metadata": {
    "id": "Xzd5yq33F1Cc"
   },
   "outputs": [],
   "source": [
    "gradient = grad(cost_function)"
   ]
  },
  {
   "cell_type": "code",
   "execution_count": null,
   "metadata": {
    "id": "bhX_VEDLI1z-"
   },
   "outputs": [],
   "source": [
    "'''\n",
    "max_iter = 30\n",
    "alpha = 0.001\n",
    "params = numpy.zeros(x_data.shape[1])\n",
    "\n",
    "for i in range(max_iter):\n",
    "    descent = gradient(params, linear_regression, x_data, y_data)\n",
    "    params = params - descent * alpha\n",
    "    loss = cost_function(params, linear_regression, x_data, y_data)\n",
    "    if i%5 == 0:\n",
    "        print(\"iteration {}, loss = {}\".format(i, loss))\n",
    "'''"
   ]
  },
  {
   "cell_type": "code",
   "execution_count": null,
   "metadata": {},
   "outputs": [],
   "source": []
  },
  {
   "cell_type": "code",
   "execution_count": null,
   "metadata": {},
   "outputs": [],
   "source": []
  }
 ],
 "metadata": {
  "accelerator": "GPU",
  "colab": {
   "collapsed_sections": [],
   "name": "Full_Duplex_DNN-real_channel_student.ipynb",
   "provenance": []
  },
  "kernelspec": {
   "display_name": "Python 3",
   "language": "python",
   "name": "python3"
  },
  "language_info": {
   "codemirror_mode": {
    "name": "ipython",
    "version": 3
   },
   "file_extension": ".py",
   "mimetype": "text/x-python",
   "name": "python",
   "nbconvert_exporter": "python",
   "pygments_lexer": "ipython3",
   "version": "3.7.11"
  },
  "toc": {
   "base_numbering": 1,
   "nav_menu": {},
   "number_sections": true,
   "sideBar": true,
   "skip_h1_title": false,
   "title_cell": "Table of Contents",
   "title_sidebar": "Contents",
   "toc_cell": false,
   "toc_position": {},
   "toc_section_display": true,
   "toc_window_display": false
  },
  "varInspector": {
   "cols": {
    "lenName": 16,
    "lenType": 16,
    "lenVar": 40
   },
   "kernels_config": {
    "python": {
     "delete_cmd_postfix": "",
     "delete_cmd_prefix": "del ",
     "library": "var_list.py",
     "varRefreshCmd": "print(var_dic_list())"
    },
    "r": {
     "delete_cmd_postfix": ") ",
     "delete_cmd_prefix": "rm(",
     "library": "var_list.r",
     "varRefreshCmd": "cat(var_dic_list()) "
    }
   },
   "types_to_exclude": [
    "module",
    "function",
    "builtin_function_or_method",
    "instance",
    "_Feature"
   ],
   "window_display": false
  }
 },
 "nbformat": 4,
 "nbformat_minor": 1
}
