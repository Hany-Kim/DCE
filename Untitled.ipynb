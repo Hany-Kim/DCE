{
 "cells": [
  {
   "cell_type": "code",
   "execution_count": 1,
   "id": "89b77f74",
   "metadata": {},
   "outputs": [],
   "source": [
    "import numpy as np\n",
    "import matplotlib.pyplot as plt"
   ]
  },
  {
   "cell_type": "code",
   "execution_count": 3,
   "id": "3298f0b8",
   "metadata": {},
   "outputs": [
    {
     "name": "stdout",
     "output_type": "stream",
     "text": [
      "2.23606797749979\n",
      "2.23606797749979\n"
     ]
    }
   ],
   "source": [
    "s1 = np.array([2,3])\n",
    "a = np.array([1,1])\n",
    "\n",
    "b = np.sqrt(np.square(2 - 1) + np.square(3 - 1))\n",
    "print(b)\n",
    "S_to_Y= np.linalg.norm(s1 - a)\n",
    "\n",
    "print(S_to_Y)"
   ]
  }
 ],
 "metadata": {
  "kernelspec": {
   "display_name": "Python 3",
   "language": "python",
   "name": "python3"
  },
  "language_info": {
   "codemirror_mode": {
    "name": "ipython",
    "version": 3
   },
   "file_extension": ".py",
   "mimetype": "text/x-python",
   "name": "python",
   "nbconvert_exporter": "python",
   "pygments_lexer": "ipython3",
   "version": "3.8.8"
  }
 },
 "nbformat": 4,
 "nbformat_minor": 5
}
