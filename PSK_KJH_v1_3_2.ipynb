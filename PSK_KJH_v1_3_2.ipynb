{
  "nbformat": 4,
  "nbformat_minor": 5,
  "metadata": {
    "accelerator": "GPU",
    "colab": {
      "name": "PSK_KJH_v1_3_2.ipynb",
      "provenance": [],
      "collapsed_sections": []
    },
    "kernelspec": {
      "display_name": "Python 3",
      "language": "python",
      "name": "python3"
    },
    "language_info": {
      "codemirror_mode": {
        "name": "ipython",
        "version": 3
      },
      "file_extension": ".py",
      "mimetype": "text/x-python",
      "name": "python",
      "nbconvert_exporter": "python",
      "pygments_lexer": "ipython3",
      "version": "3.8.8"
    },
    "toc": {
      "base_numbering": 1,
      "nav_menu": {},
      "number_sections": true,
      "sideBar": true,
      "skip_h1_title": false,
      "title_cell": "Table of Contents",
      "title_sidebar": "Contents",
      "toc_cell": false,
      "toc_position": {},
      "toc_section_display": true,
      "toc_window_display": true
    },
    "varInspector": {
      "cols": {
        "lenName": 16,
        "lenType": 16,
        "lenVar": 40
      },
      "kernels_config": {
        "python": {
          "delete_cmd_postfix": "",
          "delete_cmd_prefix": "del ",
          "library": "var_list.py",
          "varRefreshCmd": "print(var_dic_list())"
        },
        "r": {
          "delete_cmd_postfix": ") ",
          "delete_cmd_prefix": "rm(",
          "library": "var_list.r",
          "varRefreshCmd": "cat(var_dic_list()) "
        }
      },
      "types_to_exclude": [
        "module",
        "function",
        "builtin_function_or_method",
        "instance",
        "_Feature"
      ],
      "window_display": false
    }
  },
  "cells": [
    {
      "cell_type": "code",
      "metadata": {
        "id": "BEw_Y_gMuPtf"
      },
      "source": [
        "import numpy as np\n",
        "import matplotlib.pyplot as plt"
      ],
      "id": "BEw_Y_gMuPtf",
      "execution_count": 1,
      "outputs": []
    },
    {
      "cell_type": "markdown",
      "metadata": {
        "id": "9N9meSsu9eWY"
      },
      "source": [
        "Problem 1:   \n",
        "a) What is 30 [dB] in real number scale?  \n",
        "b) What is 6 [dB] in real number scale? "
      ],
      "id": "9N9meSsu9eWY"
    },
    {
      "cell_type": "code",
      "metadata": {
        "colab": {
          "base_uri": "https://localhost:8080/"
        },
        "id": "HhyiPz8I9hK1",
        "outputId": "63f35739-2d49-4078-be50-19991e3cd7c5"
      },
      "source": [
        "# ANSWER\n",
        "problem_a = 10**(0.1*30)\n",
        "problem_b = 10**(0.1*6)\n",
        "\n",
        "print(problem_a)\n",
        "print(problem_b)\n",
        "\n",
        "# a = 1000\n",
        "# b = 4"
      ],
      "id": "HhyiPz8I9hK1",
      "execution_count": 2,
      "outputs": [
        {
          "output_type": "stream",
          "name": "stdout",
          "text": [
            "1000.0\n",
            "3.981071705534973\n"
          ]
        }
      ]
    },
    {
      "cell_type": "markdown",
      "metadata": {
        "id": "j7ZisNTmuPtq"
      },
      "source": [
        "## QPSK modulation "
      ],
      "id": "j7ZisNTmuPtq"
    },
    {
      "cell_type": "markdown",
      "metadata": {
        "id": "-7IXLaPduPtq"
      },
      "source": [
        "Data : binary data. For example, [0 1 1 0 0 1 0 ...]  \n",
        "QPSK modulation:   \n",
        "$00 \\rightarrow S_1: \\left(\\sqrt{\\mathcal{E}/2},\\sqrt{\\mathcal{E}/2}\\right)$,   \n",
        "$01 \\rightarrow S_2: \\left(\\sqrt{\\mathcal{E}/2},-\\sqrt{\\mathcal{E}/2}\\right)$,   \n",
        "$11 \\rightarrow S_3: \\left(-\\sqrt{\\mathcal{E}/2},-\\sqrt{\\mathcal{E}/2}\\right)$,   \n",
        "$10 \\rightarrow S_4: \\left(-\\sqrt{\\mathcal{E}/2},\\sqrt{\\mathcal{E}/2}\\right)$. \n",
        "\n",
        "\n",
        "$x$ : QPSK modulated signal. For example, $[S_2, S_4, S_2, \\cdots]$  \n",
        "$y = x + n$ : received signal  \n",
        "$n = \\left(n_1, n_2 \\right)$ : AWGN noise, $n_1, n_2 \\sim \\mathcal{N}(0,\\sigma^2/2)$\n",
        "\n",
        "Ex) What is the variance of $n$?\n"
      ],
      "id": "-7IXLaPduPtq"
    },
    {
      "cell_type": "code",
      "metadata": {
        "colab": {
          "base_uri": "https://localhost:8080/"
        },
        "id": "JLxoxZq0uPtr",
        "outputId": "f0929308-97a3-443a-80b0-910d3f14fb2f"
      },
      "source": [
        "N_symbols = 20\n",
        "E = 1\n",
        "sigma = 1\n",
        "\n",
        "data = np.random.randint(0, 2, N_symbols)\n",
        "print('binary data:',data)\n",
        "\n",
        "S_1 = np.array([np.sqrt(E/2)+np.sqrt(E/2)*1j])\n",
        "S_2 = np.array([np.sqrt(E/2)-np.sqrt(E/2)*1j])\n",
        "S_3 = np.array([-np.sqrt(E/2)-np.sqrt(E/2)*1j])\n",
        "S_4 = np.array([-np.sqrt(E/2)+np.sqrt(E/2)*1j])\n"
      ],
      "id": "JLxoxZq0uPtr",
      "execution_count": 3,
      "outputs": [
        {
          "output_type": "stream",
          "name": "stdout",
          "text": [
            "binary data: [0 0 1 1 0 1 0 1 1 0 1 1 1 1 1 1 0 1 1 1]\n"
          ]
        }
      ]
    },
    {
      "cell_type": "code",
      "metadata": {
        "colab": {
          "base_uri": "https://localhost:8080/"
        },
        "id": "27NwrHwavLlb",
        "outputId": "4308de61-bdc9-4745-d284-094b05060ad3"
      },
      "source": [
        "X = np.array([])\n",
        "\n",
        "for n in range(0,N_symbols,2):\n",
        "    qpsk = np.sqrt(E/2)*(-(data[n]*2-1))+np.sqrt(E/2)*(-(data[n+1]*2-1))*1j\n",
        "    X = np.append(X, qpsk)\n",
        "\n",
        "print('QPSK signal:',X)\n",
        "#노이즈 발생\n",
        "Y = X + np.random.normal(0,sigma,len(X)) + np.random.normal(0,sigma,len(X))*1j\n",
        "\n",
        "#노이즈 제거\n",
        "#Y = X\n",
        "print('received signal:',Y)"
      ],
      "id": "27NwrHwavLlb",
      "execution_count": 4,
      "outputs": [
        {
          "output_type": "stream",
          "name": "stdout",
          "text": [
            "QPSK signal: [ 0.70710678+0.70710678j -0.70710678-0.70710678j  0.70710678-0.70710678j\n",
            "  0.70710678-0.70710678j -0.70710678+0.70710678j -0.70710678-0.70710678j\n",
            " -0.70710678-0.70710678j -0.70710678-0.70710678j  0.70710678-0.70710678j\n",
            " -0.70710678-0.70710678j]\n",
            "received signal: [ 1.30182788+0.98442754j -2.39366742-1.86499778j  0.1493696 -0.47232768j\n",
            " -0.38347649-1.38228522j -3.02634687+0.11420201j -0.07628338-0.39524059j\n",
            "  0.18686897+0.64490423j  0.55685413-0.69706813j  1.1112183 -0.21602299j\n",
            " -1.05337597-1.60024915j]\n"
          ]
        }
      ]
    },
    {
      "cell_type": "markdown",
      "metadata": {
        "id": "cp31vBpXUcE4"
      },
      "source": [
        "ML Detection"
      ],
      "id": "cp31vBpXUcE4"
    },
    {
      "cell_type": "code",
      "metadata": {
        "colab": {
          "base_uri": "https://localhost:8080/"
        },
        "id": "OPL5VHzrwZu0",
        "outputId": "0a092a8c-b437-4792-f41b-52436647bc1d"
      },
      "source": [
        "S_to_Y = np.zeros(4)\n",
        "Y_trans_bit = np.array([])\n",
        "\n",
        "s1 = np.ravel(np.array([S_1.real, S_1.imag]), order='C')\n",
        "s2 = np.ravel(np.array([S_2.real, S_2.imag]), order='C')\n",
        "s3 = np.ravel(np.array([S_3.real, S_3.imag]), order='C')\n",
        "s4 = np.ravel(np.array([S_4.real, S_4.imag]), order='C')\n",
        "\n",
        "\n",
        "for n in range(len(Y)):\n",
        "    Y_complex_to_point = np.array([Y[n].real, Y[n].imag])\n",
        "    \n",
        "    #S_1과의 거리\n",
        "    S_to_Y[0]= np.linalg.norm(s1 - Y_complex_to_point)\n",
        "    #S_2과의 거리\n",
        "    S_to_Y[1]= np.linalg.norm(s2 - Y_complex_to_point)\n",
        "    #S_3과의 거리\n",
        "    S_to_Y[2]= np.linalg.norm(s3 - Y_complex_to_point)\n",
        "    #S_4과의 거리\n",
        "    S_to_Y[3]= np.linalg.norm(s4 - Y_complex_to_point)\n",
        "    \n",
        "    min = np.argmin(S_to_Y)\n",
        "    if min == 0:\n",
        "        Y_trans_bit = np.append(Y_trans_bit, np.array([0, 0]))\n",
        "    elif min == 1:\n",
        "        Y_trans_bit = np.append(Y_trans_bit, np.array([0, 1]))\n",
        "    elif min == 2:\n",
        "        Y_trans_bit = np.append(Y_trans_bit, np.array([1, 1]))\n",
        "    elif min == 3:\n",
        "        Y_trans_bit = np.append(Y_trans_bit, np.array([1, 0]))\n",
        "\n",
        "print(Y_trans_bit)\n",
        "\n",
        "X_detected = (Y_trans_bit > 0)\n",
        "print(X_detected)\n",
        "\n",
        "print('number of erros:', np.sum(data != X_detected))\n",
        "print('error probability:',np.sum(data != X_detected)/data.shape)"
      ],
      "id": "OPL5VHzrwZu0",
      "execution_count": 5,
      "outputs": [
        {
          "output_type": "stream",
          "name": "stdout",
          "text": [
            "[0. 0. 1. 1. 0. 1. 1. 1. 1. 0. 1. 1. 0. 0. 0. 1. 0. 1. 1. 1.]\n",
            "[False False  True  True False  True  True  True  True False  True  True\n",
            " False False False  True False  True  True  True]\n",
            "number of erros: 4\n",
            "error probability: [0.2]\n"
          ]
        }
      ]
    },
    {
      "cell_type": "markdown",
      "metadata": {
        "id": "WzqoVDWmBicy"
      },
      "source": [
        "LOOP for different SNR values"
      ],
      "id": "WzqoVDWmBicy"
    },
    {
      "cell_type": "code",
      "metadata": {
        "colab": {
          "base_uri": "https://localhost:8080/"
        },
        "id": "3mq8VsFc46V_",
        "outputId": "a6a6a83d-9794-4098-bf69-2f12e33ec929"
      },
      "source": [
        "SNR_dB = np.arange(0,11,1)\n",
        "SNR_real = 10**(0.1*SNR_dB)\n",
        "sigma = 1\n",
        "E_array = SNR_real*sigma**2\n",
        "\n",
        "print(SNR_dB)\n",
        "print(SNR_real)\n",
        "print(E_array)"
      ],
      "id": "3mq8VsFc46V_",
      "execution_count": 6,
      "outputs": [
        {
          "output_type": "stream",
          "name": "stdout",
          "text": [
            "[ 0  1  2  3  4  5  6  7  8  9 10]\n",
            "[ 1.          1.25892541  1.58489319  1.99526231  2.51188643  3.16227766\n",
            "  3.98107171  5.01187234  6.30957344  7.94328235 10.        ]\n",
            "[ 1.          1.25892541  1.58489319  1.99526231  2.51188643  3.16227766\n",
            "  3.98107171  5.01187234  6.30957344  7.94328235 10.        ]\n"
          ]
        }
      ]
    },
    {
      "cell_type": "code",
      "metadata": {
        "colab": {
          "base_uri": "https://localhost:8080/"
        },
        "id": "92Hixab75JH9",
        "outputId": "0cea7c56-6e83-4a48-e046-9b97407b06e6"
      },
      "source": [
        "#N_symbols = 1000000\n",
        "N_symbols = 1000000\n",
        "P_e = np.zeros(SNR_dB.shape) # [0,0,0,0,0,0,0,0,0,0,0]\n",
        "\n",
        "s1 = np.ravel(np.array([S_1.real, S_1.imag]), order='C')\n",
        "s2 = np.ravel(np.array([S_2.real, S_2.imag]), order='C')\n",
        "s3 = np.ravel(np.array([S_3.real, S_3.imag]), order='C')\n",
        "s4 = np.ravel(np.array([S_4.real, S_4.imag]), order='C')\n",
        "\n",
        "for n in range(len(E_array)):\n",
        "    E = E_array[n]\n",
        "    \n",
        "    data = np.random.randint(0, 2, N_symbols)\n",
        "\n",
        "    X = np.array([])\n",
        "\n",
        "    for i in range(0,N_symbols,2):\n",
        "        qpsk = np.sqrt(E/2)*(-(data[i]*2-1))+np.sqrt(E/2)*(-(data[i+1]*2-1))*1j\n",
        "        X = np.append(X, qpsk)\n",
        "\n",
        "    Y = X + np.random.normal(0,sigma,len(X)) + np.random.normal(0,sigma,len(X))*1j\n",
        "\n",
        "    S_to_Y = np.zeros(4)\n",
        "    Y_trans_bit = np.array([])\n",
        "\n",
        "    for j in range(len(Y)):\n",
        "        Y_complex_to_point = np.array([Y[j].real, Y[j].imag])\n",
        "    \n",
        "        #S_1과의 거리\n",
        "        S_to_Y[0]= np.linalg.norm(s1 - Y_complex_to_point)\n",
        "        #S_2과의 거리\n",
        "        S_to_Y[1]= np.linalg.norm(s2 - Y_complex_to_point)\n",
        "        #S_3과의 거리\n",
        "        S_to_Y[2]= np.linalg.norm(s3 - Y_complex_to_point)\n",
        "        #S_4과의 거리\n",
        "        S_to_Y[3]= np.linalg.norm(s4 - Y_complex_to_point)\n",
        "    \n",
        "        min = np.argmin(S_to_Y)\n",
        "        if min == 0:\n",
        "            Y_trans_bit = np.append(Y_trans_bit, np.array([0, 0]))\n",
        "        elif min == 1:\n",
        "            Y_trans_bit = np.append(Y_trans_bit, np.array([0, 1]))\n",
        "        elif min == 2:\n",
        "            Y_trans_bit = np.append(Y_trans_bit, np.array([1, 1]))\n",
        "        elif min == 3:\n",
        "            Y_trans_bit = np.append(Y_trans_bit, np.array([1, 0]))\n",
        "\n",
        "    P_e[n] = np.sum(data != (Y_trans_bit > 0))/data.shape\n",
        "\n",
        "print(P_e)\n",
        "\n",
        "\n",
        "\n"
      ],
      "id": "92Hixab75JH9",
      "execution_count": 7,
      "outputs": [
        {
          "output_type": "stream",
          "name": "stdout",
          "text": [
            "[0.239597 0.213935 0.186443 0.159506 0.131343 0.104366 0.07934  0.056945\n",
            " 0.037668 0.02281  0.012818]\n"
          ]
        }
      ]
    },
    {
      "cell_type": "code",
      "metadata": {
        "colab": {
          "base_uri": "https://localhost:8080/",
          "height": 279
        },
        "id": "-jent8RO5NG_",
        "outputId": "eda9e06c-7ce4-4ffd-bd6e-0aa03e0f800f"
      },
      "source": [
        "plt.semilogy(SNR_dB,P_e,linewidth=1, linestyle='--',color='r',marker='x',label='simulation')\n",
        "plt.grid()\n",
        "plt.legend()\n",
        "plt.xlabel('SNR[dB]')\n",
        "plt.ylabel('error prob.')\n",
        "plt.show()"
      ],
      "id": "-jent8RO5NG_",
      "execution_count": 8,
      "outputs": [
        {
          "output_type": "display_data",
          "data": {
            "image/png": "[encoded data removed]",
            "text/plain": [
              "<Figure size 432x288 with 1 Axes>"
            ]
          },
          "metadata": {
            "needs_background": "light"
          }
        }
      ]
    },
    {
      "cell_type": "markdown",
      "metadata": {
        "id": "so5gmS4auPtr"
      },
      "source": [
        "\n",
        "Your project: What is the error probability of QPSK for different SNR values? "
      ],
      "id": "so5gmS4auPtr"
    },
    {
      "cell_type": "code",
      "metadata": {
        "id": "0e3f026b"
      },
      "source": [
        ""
      ],
      "id": "0e3f026b",
      "execution_count": 8,
      "outputs": []
    }
  ]
}