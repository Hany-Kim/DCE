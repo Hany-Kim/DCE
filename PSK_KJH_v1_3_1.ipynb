{
 "cells": [
  {
   "cell_type": "code",
   "execution_count": null,
   "id": "BEw_Y_gMuPtf",
   "metadata": {
    "id": "BEw_Y_gMuPtf"
   },
   "outputs": [],
   "source": [
    "import numpy as np\n",
    "import matplotlib.pyplot as plt"
   ]
  },
  {
   "cell_type": "markdown",
   "id": "9N9meSsu9eWY",
   "metadata": {
    "id": "9N9meSsu9eWY"
   },
   "source": [
    "Problem 1:   \n",
    "a) What is 30 [dB] in real number scale?  \n",
    "b) What is 6 [dB] in real number scale? "
   ]
  },
  {
   "cell_type": "code",
   "execution_count": null,
   "id": "HhyiPz8I9hK1",
   "metadata": {
    "colab": {
     "base_uri": "https://localhost:8080/"
    },
    "id": "HhyiPz8I9hK1",
    "outputId": "647f603b-d667-4f69-fd51-248727b8fc83"
   },
   "outputs": [],
   "source": [
    "# ANSWER\n",
    "problem_a = 10**(0.1*30)\n",
    "problem_b = 10**(0.1*6)\n",
    "\n",
    "print(problem_a)\n",
    "print(problem_b)\n",
    "\n",
    "# a = 1000\n",
    "# b = 4"
   ]
  },
  {
   "cell_type": "markdown",
   "id": "j7ZisNTmuPtq",
   "metadata": {
    "id": "j7ZisNTmuPtq"
   },
   "source": [
    "## QPSK modulation "
   ]
  },
  {
   "cell_type": "markdown",
   "id": "-7IXLaPduPtq",
   "metadata": {
    "id": "-7IXLaPduPtq"
   },
   "source": [
    "Data : binary data. For example, [0 1 1 0 0 1 0 ...]  \n",
    "QPSK modulation:   \n",
    "$00 \\rightarrow S_1: \\left(\\sqrt{\\mathcal{E}/2},\\sqrt{\\mathcal{E}/2}\\right)$,   \n",
    "$01 \\rightarrow S_2: \\left(\\sqrt{\\mathcal{E}/2},-\\sqrt{\\mathcal{E}/2}\\right)$,   \n",
    "$11 \\rightarrow S_3: \\left(-\\sqrt{\\mathcal{E}/2},-\\sqrt{\\mathcal{E}/2}\\right)$,   \n",
    "$10 \\rightarrow S_4: \\left(-\\sqrt{\\mathcal{E}/2},\\sqrt{\\mathcal{E}/2}\\right)$. \n",
    "\n",
    "\n",
    "$x$ : QPSK modulated signal. For example, $[S_2, S_4, S_2, \\cdots]$  \n",
    "$y = x + n$ : received signal  \n",
    "$n = \\left(n_1, n_2 \\right)$ : AWGN noise, $n_1, n_2 \\sim \\mathcal{N}(0,\\sigma^2/2)$\n",
    "\n",
    "Ex) What is the variance of $n$?\n"
   ]
  },
  {
   "cell_type": "code",
   "execution_count": null,
   "id": "JLxoxZq0uPtr",
   "metadata": {
    "colab": {
     "base_uri": "https://localhost:8080/"
    },
    "id": "JLxoxZq0uPtr",
    "outputId": "b3df907f-4f9a-42dd-942c-061cca16d1cd"
   },
   "outputs": [],
   "source": [
    "N_symbols = 20\n",
    "E = 1\n",
    "sigma = 1\n",
    "\n",
    "data = np.random.randint(0, 2, N_symbols)\n",
    "print('binary data:',data)\n",
    "\n",
    "S_1 = np.array([np.sqrt(E/2)+np.sqrt(E/2)*1j])\n",
    "S_2 = np.array([np.sqrt(E/2)-np.sqrt(E/2)*1j])\n",
    "S_3 = np.array([-np.sqrt(E/2)-np.sqrt(E/2)*1j])\n",
    "S_4 = np.array([-np.sqrt(E/2)+np.sqrt(E/2)*1j])\n"
   ]
  },
  {
   "cell_type": "code",
   "execution_count": null,
   "id": "27NwrHwavLlb",
   "metadata": {
    "colab": {
     "base_uri": "https://localhost:8080/"
    },
    "id": "27NwrHwavLlb",
    "outputId": "1c2b83ea-83bd-4f8e-afe1-5ce45ab7838b"
   },
   "outputs": [],
   "source": [
    "X = np.array([])\n",
    "\n",
    "for n in range(0,N_symbols,2):\n",
    "    qpsk = np.sqrt(E/2)*(-(data[n]*2-1))+np.sqrt(E/2)*(-(data[n+1]*2-1))*1j\n",
    "    X = np.append(X, qpsk)\n",
    "\n",
    "print('QPSK signal:',X)\n",
    "#노이즈 발생\n",
    "Y = X + np.random.normal(0,sigma,len(X)) + np.random.normal(0,sigma,len(X))*1j\n",
    "\n",
    "#노이즈 제거\n",
    "#Y = X\n",
    "print('received signal:',Y)"
   ]
  },
  {
   "cell_type": "markdown",
   "id": "cp31vBpXUcE4",
   "metadata": {
    "id": "cp31vBpXUcE4"
   },
   "source": [
    "ML Detection"
   ]
  },
  {
   "cell_type": "code",
   "execution_count": null,
   "id": "OPL5VHzrwZu0",
   "metadata": {
    "colab": {
     "base_uri": "https://localhost:8080/"
    },
    "id": "OPL5VHzrwZu0",
    "outputId": "21a2fd14-7037-407b-c4f4-11f8a96c6efd"
   },
   "outputs": [],
   "source": [
    "S_to_Y = np.zeros(4)\n",
    "Y_trans_bit = np.array([])\n",
    "\n",
    "s1 = np.ravel(np.array([S_1.real, S_1.imag]), order='C')\n",
    "s2 = np.ravel(np.array([S_2.real, S_2.imag]), order='C')\n",
    "s3 = np.ravel(np.array([S_3.real, S_3.imag]), order='C')\n",
    "s4 = np.ravel(np.array([S_4.real, S_4.imag]), order='C')\n",
    "\n",
    "\n",
    "for n in range(len(Y)):\n",
    "    Y_complex_to_point = np.array([Y[n].real, Y[n].imag])\n",
    "    \n",
    "    #S_1과의 거리\n",
    "    S_to_Y[0]= np.linalg.norm(s1 - Y_complex_to_point)\n",
    "    #S_2과의 거리\n",
    "    S_to_Y[1]= np.linalg.norm(s2 - Y_complex_to_point)\n",
    "    #S_3과의 거리\n",
    "    S_to_Y[2]= np.linalg.norm(s3 - Y_complex_to_point)\n",
    "    #S_4과의 거리\n",
    "    S_to_Y[3]= np.linalg.norm(s4 - Y_complex_to_point)\n",
    "    \n",
    "    min = np.argmin(S_to_Y)\n",
    "    if min == 0:\n",
    "        Y_trans_bit = np.append(Y_trans_bit, np.array([0, 0]))\n",
    "    elif min == 1:\n",
    "        Y_trans_bit = np.append(Y_trans_bit, np.array([0, 1]))\n",
    "    elif min == 2:\n",
    "        Y_trans_bit = np.append(Y_trans_bit, np.array([1, 1]))\n",
    "    elif min == 3:\n",
    "        Y_trans_bit = np.append(Y_trans_bit, np.array([1, 0]))\n",
    "\n",
    "print(Y_trans_bit)\n",
    "\n",
    "X_detected = (Y_trans_bit > 0)\n",
    "print(X_detected)\n",
    "\n",
    "print('number of erros:', np.sum(data != X_detected))\n",
    "print('error probability:',np.sum(data != X_detected)/data.shape)"
   ]
  },
  {
   "cell_type": "markdown",
   "id": "WzqoVDWmBicy",
   "metadata": {
    "id": "WzqoVDWmBicy"
   },
   "source": [
    "LOOP for different SNR values"
   ]
  },
  {
   "cell_type": "code",
   "execution_count": null,
   "id": "3mq8VsFc46V_",
   "metadata": {
    "colab": {
     "base_uri": "https://localhost:8080/"
    },
    "id": "3mq8VsFc46V_",
    "outputId": "8ed84a40-859b-4f16-f6c9-71b70ba9ffb5"
   },
   "outputs": [],
   "source": [
    "SNR_dB = np.arange(0,11,1)\n",
    "SNR_real = 10**(0.1*SNR_dB)\n",
    "sigma = 1\n",
    "E_array = SNR_real*sigma**2\n",
    "\n",
    "print(SNR_dB)\n",
    "print(SNR_real)\n",
    "print(E_array)"
   ]
  },
  {
   "cell_type": "code",
   "execution_count": null,
   "id": "92Hixab75JH9",
   "metadata": {
    "colab": {
     "base_uri": "https://localhost:8080/"
    },
    "id": "92Hixab75JH9",
    "outputId": "78e5d94c-3426-4e54-c534-6876d19f742d"
   },
   "outputs": [],
   "source": [
    "#N_symbols = 1000000\n",
    "N_symbols = 20\n",
    "P_e = np.zeros(SNR_dB.shape) # [0,0,0,0,0,0,0,0,0,0,0]\n",
    "\n",
    "s1 = np.ravel(np.array([S_1.real, S_1.imag]), order='C')\n",
    "s2 = np.ravel(np.array([S_2.real, S_2.imag]), order='C')\n",
    "s3 = np.ravel(np.array([S_3.real, S_3.imag]), order='C')\n",
    "s4 = np.ravel(np.array([S_4.real, S_4.imag]), order='C')\n",
    "\n",
    "for n in range(len(E_array)):\n",
    "    E = E_array[n]\n",
    "    \n",
    "    data = np.random.randint(0, 2, N_symbols)\n",
    "\n",
    "    X = np.array([])\n",
    "\n",
    "    for i in range(0,N_symbols,2):\n",
    "        qpsk = np.sqrt(E/2)*(-(data[i]*2-1))+np.sqrt(E/2)*(-(data[i+1]*2-1))*1j\n",
    "        X = np.append(X, qpsk)\n",
    "\n",
    "    Y = X + np.random.normal(0,sigma,len(X)) + np.random.normal(0,sigma,len(X))*1j\n",
    "\n",
    "    S_to_Y = np.zeros(4)\n",
    "    Y_trans_bit = np.array([])\n",
    "\n",
    "    for j in range(len(Y)):\n",
    "        Y_complex_to_point = np.array([Y[j].real, Y[j].imag])\n",
    "    \n",
    "        #S_1과의 거리\n",
    "        S_to_Y[0]= np.linalg.norm(s1 - Y_complex_to_point)\n",
    "        #S_2과의 거리\n",
    "        S_to_Y[1]= np.linalg.norm(s2 - Y_complex_to_point)\n",
    "        #S_3과의 거리\n",
    "        S_to_Y[2]= np.linalg.norm(s3 - Y_complex_to_point)\n",
    "        #S_4과의 거리\n",
    "        S_to_Y[3]= np.linalg.norm(s4 - Y_complex_to_point)\n",
    "    \n",
    "        min = np.argmin(S_to_Y)\n",
    "        if min == 0:\n",
    "            Y_trans_bit = np.append(Y_trans_bit, np.array([0, 0]))\n",
    "        elif min == 1:\n",
    "            Y_trans_bit = np.append(Y_trans_bit, np.array([0, 1]))\n",
    "        elif min == 2:\n",
    "            Y_trans_bit = np.append(Y_trans_bit, np.array([1, 1]))\n",
    "        elif min == 3:\n",
    "            Y_trans_bit = np.append(Y_trans_bit, np.array([1, 0]))\n",
    "\n",
    "    P_e[n] = np.sum(data != (Y_trans_bit > 0))/data.shape\n",
    "\n",
    "print(P_e)\n",
    "\n",
    "\n",
    "\n"
   ]
  },
  {
   "cell_type": "code",
   "execution_count": null,
   "id": "-jent8RO5NG_",
   "metadata": {
    "colab": {
     "base_uri": "https://localhost:8080/",
     "height": 279
    },
    "id": "-jent8RO5NG_",
    "outputId": "fd44a87a-a881-498e-bd56-191c0f94f862"
   },
   "outputs": [],
   "source": [
    "plt.semilogy(SNR_dB,P_e,linewidth=1, linestyle='--',color='r',marker='x',label='simulation')\n",
    "plt.grid()\n",
    "plt.legend()\n",
    "plt.xlabel('SNR[dB]')\n",
    "plt.ylabel('error prob.')\n",
    "plt.show()"
   ]
  },
  {
   "cell_type": "markdown",
   "id": "so5gmS4auPtr",
   "metadata": {
    "id": "so5gmS4auPtr"
   },
   "source": [
    "\n",
    "Your project: What is the error probability of QPSK for different SNR values? "
   ]
  },
  {
   "cell_type": "code",
   "execution_count": null,
   "id": "0e3f026b",
   "metadata": {},
   "outputs": [],
   "source": []
  }
 ],
 "metadata": {
  "accelerator": "GPU",
  "colab": {
   "collapsed_sections": [],
   "name": "PSK_KJH_v1.3.ipynb",
   "provenance": []
  },
  "kernelspec": {
   "display_name": "Python 3",
   "language": "python",
   "name": "python3"
  },
  "language_info": {
   "codemirror_mode": {
    "name": "ipython",
    "version": 3
   },
   "file_extension": ".py",
   "mimetype": "text/x-python",
   "name": "python",
   "nbconvert_exporter": "python",
   "pygments_lexer": "ipython3",
   "version": "3.8.8"
  },
  "toc": {
   "base_numbering": 1,
   "nav_menu": {},
   "number_sections": true,
   "sideBar": true,
   "skip_h1_title": false,
   "title_cell": "Table of Contents",
   "title_sidebar": "Contents",
   "toc_cell": false,
   "toc_position": {},
   "toc_section_display": true,
   "toc_window_display": true
  },
  "varInspector": {
   "cols": {
    "lenName": 16,
    "lenType": 16,
    "lenVar": 40
   },
   "kernels_config": {
    "python": {
     "delete_cmd_postfix": "",
     "delete_cmd_prefix": "del ",
     "library": "var_list.py",
     "varRefreshCmd": "print(var_dic_list())"
    },
    "r": {
     "delete_cmd_postfix": ") ",
     "delete_cmd_prefix": "rm(",
     "library": "var_list.r",
     "varRefreshCmd": "cat(var_dic_list()) "
    }
   },
   "types_to_exclude": [
    "module",
    "function",
    "builtin_function_or_method",
    "instance",
    "_Feature"
   ],
   "window_display": false
  }
 },
 "nbformat": 4,
 "nbformat_minor": 5
}
