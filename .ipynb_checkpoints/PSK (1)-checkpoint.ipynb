{
 "cells": [
  {
   "cell_type": "code",
   "execution_count": 1,
   "id": "f01ef5f6",
   "metadata": {},
   "outputs": [],
   "source": [
    "import numpy as np\n",
    "import matplotlib.pyplot as plt"
   ]
  },
  {
   "cell_type": "markdown",
   "id": "2fa27111",
   "metadata": {},
   "source": [
    "## BPSK modulation \n",
    "\n",
    "### Data generation, transmission, reception\n",
    "\n",
    "Data : binary data. For example, [0 1 1 0 0 1 0 ...]  \n",
    "BPSK modulation:   \n",
    "$0 \\rightarrow -\\sqrt{\\mathcal{E}}$, $1 \\rightarrow \\sqrt{\\mathcal{E}}$\n",
    "\n",
    "\n",
    "$x$ : BPSK (or binarhy antipodal method) modulated signal. For example, $[-\\sqrt{\\mathcal{E}},\\sqrt{\\mathcal{E}},\\sqrt{\\mathcal{E}},-\\sqrt{\\mathcal{E}},-\\sqrt{\\mathcal{E}},\\sqrt{\\mathcal{E}},-\\sqrt{\\mathcal{E}},...]$  \n",
    "$y = x + n$ : received signal  \n",
    "$n$ : AWGN noise, $n\\sim \\mathcal{N}(0,\\sigma^2)$\n",
    "\n"
   ]
  },
  {
   "cell_type": "code",
   "execution_count": 26,
   "id": "50c9c2f9",
   "metadata": {
    "scrolled": true
   },
   "outputs": [
    {
     "name": "stdout",
     "output_type": "stream",
     "text": [
      "binary data: [1 0 0 0 0 1 1 0 1 1 1 1 0 0 1 0 1 1 1 1]\n",
      "BPSK signal: [ 1.41421356 -1.41421356 -1.41421356 -1.41421356 -1.41421356  1.41421356\n",
      "  1.41421356 -1.41421356  1.41421356  1.41421356  1.41421356  1.41421356\n",
      " -1.41421356 -1.41421356  1.41421356 -1.41421356  1.41421356  1.41421356\n",
      "  1.41421356  1.41421356]\n",
      "received signal: [ 0.01696126 -3.09495451  0.27361576 -0.62031596  0.68706096  1.87108072\n",
      " -1.67637717 -1.87309876  0.13018399  1.30972917  0.31261539 -0.66556167\n",
      " -0.60867146 -6.11890776 -1.30487857 -0.86993571 -0.28380166 -2.16070045\n",
      "  1.7799879   0.7094386 ]\n"
     ]
    }
   ],
   "source": [
    "N_symbols = 20\n",
    "E = 2\n",
    "sigma = 2\n",
    "\n",
    "data = np.random.randint(0, 2, N_symbols)\n",
    "print('binary data:',data)\n",
    "\n",
    "X = (np.sqrt(E)*(data*2-1))\n",
    "print('BPSK signal:',X)\n",
    "Y = X + np.random.normal(0,sigma,N_symbols)\n",
    "print('received signal:',Y)"
   ]
  },
  {
   "cell_type": "markdown",
   "id": "547bf248",
   "metadata": {},
   "source": [
    "### ML Detection"
   ]
  },
  {
   "cell_type": "code",
   "execution_count": 27,
   "id": "c8c65238",
   "metadata": {
    "scrolled": true
   },
   "outputs": [
    {
     "name": "stdout",
     "output_type": "stream",
     "text": [
      "[ True False  True False  True  True False False  True  True  True False\n",
      " False False False False False False  True  True]\n",
      "number of errors: 7\n",
      "error probability: [0.35]\n"
     ]
    }
   ],
   "source": [
    "X_detected = (Y > 0)\n",
    "print(X_detected)\n",
    "\n",
    "print('number of errors:', np.sum(data != X_detected))\n",
    "print('error probability:',np.sum(data != X_detected)/data.shape)\n"
   ]
  },
  {
   "cell_type": "markdown",
   "id": "d59cb868",
   "metadata": {},
   "source": [
    "### Loop for different SNR values \n",
    "\n",
    "real number scale : 100  \n",
    "dB scale : $10\\log_{10}(100)$ = 20 [dB]\n",
    "\n",
    "10*np.log10(100)\n",
    "\n",
    "What is 2 in dB scale?   \n",
    "\n",
    "Answer: 3 [dB]\n",
    "\n",
    "Problem 1:   \n",
    "a) What is 30 [dB] in real number scale?  \n",
    "b) What is 6 [dB] in real number scale?  \n",
    "\n",
    "\n",
    "\n",
    "Project: What is the error probability of BPSK for different SNR values?  \n",
    "\n",
    "SNR : $\\gamma  = \\frac{\\mathcal{E}}{\\sigma_N^2}= (0,1,2\\cdots,10) $ [dB]  \n",
    "$\\mathcal{E}$: energy of the transmitted signal  \n",
    "$\\sigma_N^2$ : variance of the noise signal\n",
    "\n",
    "\n",
    "\n"
   ]
  },
  {
   "cell_type": "code",
   "execution_count": 32,
   "id": "c86dfb1d",
   "metadata": {},
   "outputs": [
    {
     "data": {
      "text/plain": [
       "3.010299956639812"
      ]
     },
     "execution_count": 32,
     "metadata": {},
     "output_type": "execute_result"
    }
   ],
   "source": [
    "10*np.log10(2)"
   ]
  },
  {
   "cell_type": "code",
   "execution_count": 33,
   "id": "41f5c7bd",
   "metadata": {},
   "outputs": [],
   "source": [
    "SNR_dB = np.arange(0,11,1)\n",
    "SNR_real = 10**(0.1*SNR_dB)\n",
    "sigma = 1\n",
    "E_array = SNR_real*sigma**2\n"
   ]
  },
  {
   "cell_type": "code",
   "execution_count": 34,
   "id": "a833a8c4",
   "metadata": {},
   "outputs": [],
   "source": [
    "N_symbols = 1000000\n",
    "P_e = np.zeros(SNR_dB.shape)\n",
    "\n",
    "for n in range(len(E_array)):\n",
    "    E = E_array[n]\n",
    "    data = np.random.randint(0, 2, N_symbols)\n",
    "    X = (np.sqrt(E)*(data*2-1))\n",
    "    Y = X + np.random.normal(0,sigma,N_symbols) \n",
    "    P_e[n] = np.sum(data != (Y > 0))/data.shape\n",
    "    \n",
    "    \n",
    "\n",
    "    \n",
    "    "
   ]
  },
  {
   "cell_type": "code",
   "execution_count": 36,
   "id": "74046aba",
   "metadata": {
    "scrolled": false
   },
   "outputs": [
    {
     "data": {
      "image/png": "[encoded data removed]",
      "text/plain": [
       "<Figure size 432x288 with 1 Axes>"
      ]
     },
     "metadata": {
      "needs_background": "light"
     },
     "output_type": "display_data"
    }
   ],
   "source": [
    "plt.semilogy(SNR_dB,P_e,linewidth=1, linestyle='--',color='r',marker='x',label='simulation')\n",
    "plt.grid()\n",
    "plt.legend()\n",
    "plt.xlabel('SNR[dB]')\n",
    "plt.ylabel('error prob.')\n",
    "plt.show()\n"
   ]
  },
  {
   "cell_type": "markdown",
   "id": "3f9e7deb",
   "metadata": {},
   "source": [
    "## QPSK modulation "
   ]
  },
  {
   "cell_type": "markdown",
   "id": "7e4ad7e0",
   "metadata": {},
   "source": [
    "Data : binary data. For example, [0 1 1 0 0 1 0 ...]  \n",
    "QPSK modulation:   \n",
    "$00 \\rightarrow S_1: \\left(\\sqrt{\\mathcal{E}/2},\\sqrt{\\mathcal{E}/2}\\right)$,   \n",
    "$01 \\rightarrow S_2: \\left(\\sqrt{\\mathcal{E}/2},-\\sqrt{\\mathcal{E}/2}\\right)$,   \n",
    "$11 \\rightarrow S_3: \\left(-\\sqrt{\\mathcal{E}/2},-\\sqrt{\\mathcal{E}/2}\\right)$,   \n",
    "$10 \\rightarrow S_4: \\left(-\\sqrt{\\mathcal{E}/2},\\sqrt{\\mathcal{E}/2}\\right)$. \n",
    "\n",
    "\n",
    "$x$ : QPSK modulated signal. For example, $[S_2, S_4, S_2, \\cdots]$  \n",
    "$y = x + n$ : received signal  \n",
    "$n = \\left(n_1, n_2 \\right)$ : AWGN noise, $n_1, n_2 \\sim \\mathcal{N}(0,\\sigma^2/2)$\n",
    "\n",
    "Ex) What is the variance of $n$?\n"
   ]
  },
  {
   "cell_type": "code",
   "execution_count": 37,
   "id": "3607e712",
   "metadata": {},
   "outputs": [
    {
     "name": "stdout",
     "output_type": "stream",
     "text": [
      "binary data: [1 1 1 0 0 0 1 0 0 1 0 1 0 1 0 0 1 0 1 1]\n"
     ]
    }
   ],
   "source": [
    "N_symbols = 20\n",
    "E = 1\n",
    "sigma = 1\n",
    "\n",
    "data = np.random.randint(0, 2, N_symbols)\n",
    "print('binary data:',data)\n",
    "\n",
    "S_1 = np.array([np.sqrt(E/2)+np.sqrt(E/2)*1j])\n",
    "S_2 = np.array([np.sqrt(E/2)-np.sqrt(E/2)*1j])\n",
    "S_3 = np.array([-np.sqrt(E/2)-np.sqrt(E/2)*1j])\n",
    "S_4 = np.array([-np.sqrt(E/2)+np.sqrt(E/2)*1j])\n"
   ]
  },
  {
   "cell_type": "markdown",
   "id": "c06d0c03",
   "metadata": {},
   "source": [
    "Your project: What is the error probability of QPSK for different SNR values? "
   ]
  }
 ],
 "metadata": {
  "kernelspec": {
   "display_name": "Python 3",
   "language": "python",
   "name": "python3"
  },
  "language_info": {
   "codemirror_mode": {
    "name": "ipython",
    "version": 3
   },
   "file_extension": ".py",
   "mimetype": "text/x-python",
   "name": "python",
   "nbconvert_exporter": "python",
   "pygments_lexer": "ipython3",
   "version": "3.8.8"
  },
  "toc": {
   "base_numbering": 1,
   "nav_menu": {},
   "number_sections": true,
   "sideBar": true,
   "skip_h1_title": false,
   "title_cell": "Table of Contents",
   "title_sidebar": "Contents",
   "toc_cell": false,
   "toc_position": {},
   "toc_section_display": true,
   "toc_window_display": true
  },
  "varInspector": {
   "cols": {
    "lenName": 16,
    "lenType": 16,
    "lenVar": 40
   },
   "kernels_config": {
    "python": {
     "delete_cmd_postfix": "",
     "delete_cmd_prefix": "del ",
     "library": "var_list.py",
     "varRefreshCmd": "print(var_dic_list())"
    },
    "r": {
     "delete_cmd_postfix": ") ",
     "delete_cmd_prefix": "rm(",
     "library": "var_list.r",
     "varRefreshCmd": "cat(var_dic_list()) "
    }
   },
   "types_to_exclude": [
    "module",
    "function",
    "builtin_function_or_method",
    "instance",
    "_Feature"
   ],
   "window_display": false
  }
 },
 "nbformat": 4,
 "nbformat_minor": 5
}
