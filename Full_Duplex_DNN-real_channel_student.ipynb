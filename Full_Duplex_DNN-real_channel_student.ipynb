{
 "cells": [
  {
   "cell_type": "markdown",
   "metadata": {},
   "source": [
    "Full duplex radio를 위한 연습\n",
    "\n"
   ]
  },
  {
   "cell_type": "code",
   "execution_count": 1,
   "metadata": {},
   "outputs": [],
   "source": [
    "import numpy as np\n",
    "import tensorflow as tf"
   ]
  },
  {
   "cell_type": "markdown",
   "metadata": {},
   "source": [
    "$s[n]$ : transmitted signal at time $n$, (real number)  \n",
    "$h_p[n]$ : the channel coefficient of the $p$-th order  \n",
    "$P$ : the largest order\n",
    "\n",
    "\\begin{align}\n",
    "y[n]= \\sum_\\limits{p=1,p=odd}^{P}\\sum\\limits_{l=0}^{L} h_{p}[l]s[n-l]^{p}.      ~~~~~~~~~~ (1)\n",
    "\\end{align}"
   ]
  },
  {
   "cell_type": "code",
   "execution_count": 2,
   "metadata": {},
   "outputs": [],
   "source": [
    "length_data = 100000  # length of s[n]\n",
    "L = 3                 # length of delay profile [h[0], h[1], ..., h[L-1]]\n",
    "var_S = 5e-1          # variance of transmitted signal\n",
    "var_N = 1e-5          # variance of noise \n",
    "\n",
    "P_max = 5             # the largest order\n",
    "P_min = 1             # the smallest order \n",
    "\n",
    "# traning set \n",
    "s = np.sqrt(var_S)*np.random.randn(length_data)     # the transmitted signal\n",
    "y = np.zeros(length_data + L -1,dtype='float32')    # the received signal \n",
    "\n",
    "#########################################################\n",
    "##  Training Data Set\n",
    "########################################################\n",
    "\n",
    "## Received symbols according to (1)\n",
    "h = np.random.randn(P_max+1,L)\n",
    "for p in [a for a in range(P_min,P_max+1) if a%2==1]:\n",
    "    y = y + np.convolve(h[p],np.power(s,p))\n",
    "### additive noise ###\n",
    "y = y + np.sqrt(var_N)*np.random.randn(length_data + L-1)"
   ]
  },
  {
   "cell_type": "markdown",
   "metadata": {},
   "source": [
    "Our objective is to estimate $\\{h_p[0], h_p[1], h_p[2]\\}$ for $p = 1, 3, 5$ assuming we do not know them.   \n",
    "We will apply the linear regression method first to estimate $\\{h_p[0], h_p[1], h_p[2]\\}$. \n",
    "\n",
    "\n",
    "$y[n]$ is affected by $\\{s[n], s[n-1], s[n-2], s^3[n], s^3[n-1], s^3[n-2], s^5[n], s^5[n-1], s^5[n-2]\\}$.  \n",
    "We can generate training set such as\n",
    "\n",
    "$s[2], s[1], s[0], s^3[2], s^3[1], s^3[0], s^5[2], s^5[1], s^5[0], y[2]$  \n",
    "$s[3], s[2], s[1], s^3[3], s^3[2], s^3[1], s^5[3], s^5[2], s^5[1], y[3]$  \n",
    "$s[4], s[3], s[2], s^3[4], s^3[3], s^3[2], s^5[4], s^5[3], s^5[2], y[4]$  \n",
    "$\\vdots$  $\\vdots$  \n",
    "where the last element of each row is a target data and the rest of the elements of each row is feature data. \n",
    "\n",
    "\n"
   ]
  },
  {
   "cell_type": "code",
   "execution_count": 3,
   "metadata": {},
   "outputs": [],
   "source": [
    "## Training data generation \n",
    "x_data = np.zeros([length_data - L+ 1, L],dtype = 'float32')   ## feature data\n",
    "y_data = np.zeros([length_data - L + 1,1],dtype = 'float32')   ## target data\n",
    "\n",
    "for i in range(length_data - L + 1):\n",
    "    y_data[i] = y[i + L -1]\n",
    "    x_data[i] = s[i : i + L]\n",
    "\n",
    "x_data = np.concatenate((x_data, np.power(x_data,3), np.power(x_data,5)),axis=1)\n",
    "train_data = x_data\n"
   ]
  },
  {
   "cell_type": "code",
   "execution_count": 4,
   "metadata": {},
   "outputs": [
    {
     "data": {
      "text/plain": [
       "(100000,)"
      ]
     },
     "execution_count": 4,
     "metadata": {},
     "output_type": "execute_result"
    }
   ],
   "source": [
    "s.shape"
   ]
  },
  {
   "cell_type": "markdown",
   "metadata": {},
   "source": [
    "We also generate test data set. "
   ]
  },
  {
   "cell_type": "code",
   "execution_count": 5,
   "metadata": {},
   "outputs": [],
   "source": [
    "###################################################    \n",
    "## Test Data Set\n",
    "####################################################\n",
    "len_test_data = 100000  # length of s[n] for test data set \n",
    "\n",
    "y = np.zeros(len_test_data + L -1,dtype='float32')\n",
    "s = np.sqrt(var_S)*np.random.randn(len_test_data) \n",
    "\n",
    "h = np.random.randn(P_max+1,L)\n",
    "for p in [a for a in range(P_min,P_max+1) if a%2==1]:\n",
    "    y = y + np.convolve(h[p],np.power(s,p))\n",
    "y = y + np.sqrt(var_N)*np.random.randn(length_data + L-1)\n",
    "\n",
    "x_data_test = np.zeros([length_data-L+1,L],dtype = 'float32')\n",
    "y_data_test = np.zeros([length_data-L+1,1],dtype = 'float32')  ## target data\n",
    "\n",
    "for i in range(length_data- L + 1):\n",
    "    y_data_test[i] = y[i + L -1]\n",
    "    x_data_test[i] = s[i : i + L]   \n",
    "    \n",
    "x_data_test = np.concatenate((x_data_test, np.power(x_data_test,3), np.power(x_data_test,5)),axis=1)\n",
    "test_data = x_data_test"
   ]
  },
  {
   "cell_type": "code",
   "execution_count": 6,
   "metadata": {},
   "outputs": [
    {
     "name": "stdout",
     "output_type": "stream",
     "text": [
      "(99998, 9)\n",
      "(99998, 9)\n"
     ]
    }
   ],
   "source": [
    "print(x_data.shape)\n",
    "print(x_data_test.shape)"
   ]
  },
  {
   "cell_type": "markdown",
   "metadata": {},
   "source": [
    "Now, with the generated train and test data, estimate $\\{h_p[0], h_p[1], h_p[2]\\}$ for $p = 1, 3, 5$ using linear regression method."
   ]
  },
  {
   "cell_type": "code",
   "execution_count": 7,
   "metadata": {},
   "outputs": [
    {
     "name": "stdout",
     "output_type": "stream",
     "text": [
      "(99998, 1)\n",
      "(99998, 1)\n"
     ]
    }
   ],
   "source": [
    "print(y_data.shape)\n",
    "print(y_data_test.shape)"
   ]
  },
  {
   "cell_type": "code",
   "execution_count": 8,
   "metadata": {},
   "outputs": [
    {
     "data": {
      "text/plain": [
       "array([[ 2.803828  ],\n",
       "       [-2.863088  ],\n",
       "       [-2.079739  ],\n",
       "       ...,\n",
       "       [-0.38316968],\n",
       "       [ 1.7764328 ],\n",
       "       [ 0.3969923 ]], dtype=float32)"
      ]
     },
     "execution_count": 8,
     "metadata": {},
     "output_type": "execute_result"
    }
   ],
   "source": [
    "y_data"
   ]
  },
  {
   "cell_type": "code",
   "execution_count": 9,
   "metadata": {},
   "outputs": [],
   "source": [
    "import sympy\n",
    "import numpy\n",
    "\n",
    "from matplotlib import pyplot\n",
    "%matplotlib inline"
   ]
  },
  {
   "cell_type": "code",
   "execution_count": 10,
   "metadata": {},
   "outputs": [
    {
     "ename": "MemoryError",
     "evalue": "Unable to allocate 74.5 GiB for an array with shape (99998, 99998) and data type float64",
     "output_type": "error",
     "traceback": [
      "\u001b[1;31m---------------------------------------------------------------------------\u001b[0m",
      "\u001b[1;31mMemoryError\u001b[0m                               Traceback (most recent call last)",
      "\u001b[1;32m<ipython-input-10-d3d5c3b19aa6>\u001b[0m in \u001b[0;36m<module>\u001b[1;34m\u001b[0m\n\u001b[0;32m      4\u001b[0m \u001b[0mb\u001b[0m \u001b[1;33m=\u001b[0m \u001b[1;36m1\u001b[0m\u001b[1;33m\u001b[0m\u001b[1;33m\u001b[0m\u001b[0m\n\u001b[0;32m      5\u001b[0m \u001b[0mnumpy\u001b[0m\u001b[1;33m.\u001b[0m\u001b[0mrandom\u001b[0m\u001b[1;33m.\u001b[0m\u001b[0mseed\u001b[0m\u001b[1;33m(\u001b[0m\u001b[1;36m0\u001b[0m\u001b[1;33m)\u001b[0m\u001b[1;33m\u001b[0m\u001b[1;33m\u001b[0m\u001b[0m\n\u001b[1;32m----> 6\u001b[1;33m \u001b[0mz_data\u001b[0m \u001b[1;33m=\u001b[0m \u001b[0mw\u001b[0m \u001b[1;33m*\u001b[0m \u001b[0my_data\u001b[0m \u001b[1;33m+\u001b[0m \u001b[0mb\u001b[0m \u001b[1;33m+\u001b[0m \u001b[0mnumpy\u001b[0m\u001b[1;33m.\u001b[0m\u001b[0mrandom\u001b[0m\u001b[1;33m.\u001b[0m\u001b[0mnormal\u001b[0m\u001b[1;33m(\u001b[0m\u001b[0msize\u001b[0m\u001b[1;33m=\u001b[0m\u001b[0mlen\u001b[0m\u001b[1;33m(\u001b[0m\u001b[0my_data\u001b[0m\u001b[1;33m)\u001b[0m\u001b[1;33m)\u001b[0m\u001b[1;33m\u001b[0m\u001b[1;33m\u001b[0m\u001b[0m\n\u001b[0m\u001b[0;32m      7\u001b[0m \u001b[0mlin_reg\u001b[0m \u001b[1;33m=\u001b[0m \u001b[1;36m1\u001b[0m \u001b[1;33m/\u001b[0m \u001b[1;33m(\u001b[0m\u001b[1;36m1\u001b[0m\u001b[1;33m+\u001b[0m \u001b[0mnumpy\u001b[0m\u001b[1;33m.\u001b[0m\u001b[0mexp\u001b[0m\u001b[1;33m(\u001b[0m\u001b[1;33m-\u001b[0m\u001b[0mz_data\u001b[0m\u001b[1;33m)\u001b[0m\u001b[1;33m)\u001b[0m\u001b[1;33m\u001b[0m\u001b[1;33m\u001b[0m\u001b[0m\n\u001b[0;32m      8\u001b[0m \u001b[1;33m\u001b[0m\u001b[0m\n",
      "\u001b[1;31mMemoryError\u001b[0m: Unable to allocate 74.5 GiB for an array with shape (99998, 99998) and data type float64"
     ]
    }
   ],
   "source": [
    "# synthetic data\n",
    "#x_data = numpy.linspace(-5, 5, 100)\n",
    "w = 2\n",
    "b = 1\n",
    "numpy.random.seed(0)\n",
    "z_data = w * y_data + b + numpy.random.normal(size=len(y_data))\n",
    "lin_reg = 1 / (1+ numpy.exp(-z_data))\n",
    "\n",
    "pyplot.scatter(y_data, lin_reg, alpha=0.4);"
   ]
  },
  {
   "cell_type": "code",
   "execution_count": null,
   "metadata": {},
   "outputs": [],
   "source": []
  }
 ],
 "metadata": {
  "kernelspec": {
   "display_name": "Python 3",
   "language": "python",
   "name": "python3"
  },
  "language_info": {
   "codemirror_mode": {
    "name": "ipython",
    "version": 3
   },
   "file_extension": ".py",
   "mimetype": "text/x-python",
   "name": "python",
   "nbconvert_exporter": "python",
   "pygments_lexer": "ipython3",
   "version": "3.8.8"
  },
  "toc": {
   "base_numbering": 1,
   "nav_menu": {},
   "number_sections": true,
   "sideBar": true,
   "skip_h1_title": false,
   "title_cell": "Table of Contents",
   "title_sidebar": "Contents",
   "toc_cell": false,
   "toc_position": {},
   "toc_section_display": true,
   "toc_window_display": false
  },
  "varInspector": {
   "cols": {
    "lenName": 16,
    "lenType": 16,
    "lenVar": 40
   },
   "kernels_config": {
    "python": {
     "delete_cmd_postfix": "",
     "delete_cmd_prefix": "del ",
     "library": "var_list.py",
     "varRefreshCmd": "print(var_dic_list())"
    },
    "r": {
     "delete_cmd_postfix": ") ",
     "delete_cmd_prefix": "rm(",
     "library": "var_list.r",
     "varRefreshCmd": "cat(var_dic_list()) "
    }
   },
   "types_to_exclude": [
    "module",
    "function",
    "builtin_function_or_method",
    "instance",
    "_Feature"
   ],
   "window_display": false
  }
 },
 "nbformat": 4,
 "nbformat_minor": 2
}
